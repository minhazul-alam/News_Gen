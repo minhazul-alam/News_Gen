{
  "nbformat": 4,
  "nbformat_minor": 0,
  "metadata": {
    "colab": {
      "name": "Untitled2.ipynb",
      "provenance": [],
      "include_colab_link": true
    },
    "kernelspec": {
      "name": "python3",
      "display_name": "Python 3"
    }
  },
  "cells": [
    {
      "cell_type": "markdown",
      "metadata": {
        "id": "view-in-github",
        "colab_type": "text"
      },
      "source": [
        "<a href=\"https://colab.research.google.com/github/minhazul-alam/News_Gen/blob/master/Motaleb/code/lstm_bangla_text_generation.ipynb\" target=\"_parent\"><img src=\"https://colab.research.google.com/assets/colab-badge.svg\" alt=\"Open In Colab\"/></a>"
      ]
    },
    {
      "cell_type": "code",
      "metadata": {
        "id": "SYDxx5Pp8DDg",
        "colab_type": "code",
        "outputId": "324c1f0d-f22d-4072-b91d-9024486ecb61",
        "colab": {
          "base_uri": "https://localhost:8080/",
          "height": 1000
        }
      },
      "source": [
        "import sys\n",
        "import numpy\n",
        "from keras.models import Sequential\n",
        "from keras.layers import Dense\n",
        "from keras.layers import Dropout\n",
        "from keras.layers import LSTM\n",
        "from keras.callbacks import ModelCheckpoint\n",
        "from keras.utils import np_utils\n",
        "# load ascii text and covert to lowercase\n",
        "filename = \"/content/drive/My Drive/Trash/sample.txt\"\n",
        "raw_text = open(filename, 'r', encoding='utf-8').read()\n",
        "# create mapping of unique chars to integers, and a reverse mapping\n",
        "chars = sorted(list(set(raw_text)))\n",
        "char_to_int = dict((c, i) for i, c in enumerate(chars))\n",
        "int_to_char = dict((i, c) for i, c in enumerate(chars))\n",
        "# summarize the loaded data\n",
        "n_chars = len(raw_text)\n",
        "n_vocab = len(chars)\n",
        "print (\"Total Characters: \", n_chars)\n",
        "print (\"Total Vocab: \", n_vocab)\n",
        "seq_length = 100\n",
        "dataX = []\n",
        "dataY = []\n",
        "for i in range(0, n_chars - seq_length, 1):\n",
        "\tseq_in = raw_text[i:i + seq_length]\n",
        "\tseq_out = raw_text[i + seq_length]\n",
        "\tdataX.append([char_to_int[char] for char in seq_in])\n",
        "\tdataY.append(char_to_int[seq_out])\n",
        "n_patterns = len(dataX)\n",
        "print (\"Total Patterns: \", n_patterns)\n",
        "# reshape X to be [samples, time steps, features]\n",
        "X = numpy.reshape(dataX, (n_patterns, seq_length, 1))\n",
        "# normalize\n",
        "X = X / float(n_vocab)\n",
        "# one hot encode the output variable\n",
        "y = np_utils.to_categorical(dataY)\n",
        "# define the LSTM model\n",
        "model = Sequential()\n",
        "model.add(LSTM(256, input_shape=(X.shape[1], X.shape[2])))\n",
        "model.add(Dropout(0.2))\n",
        "model.add(Dense(y.shape[1], activation='softmax'))\n",
        "model.compile(loss='categorical_crossentropy', optimizer='adam')\n",
        "filepath=\"/content/drive/My Drive/Machine Learning/Lstm/weights-improvement-{epoch:02d}-{loss:.4f}.hdf5\"\n",
        "checkpoint = ModelCheckpoint(filepath, monitor='loss', verbose=1, save_best_only=True, mode='min')\n",
        "callbacks_list = [checkpoint]\n",
        "model.fit(X, y, epochs=20, batch_size=128, callbacks=callbacks_list)\n"
      ],
      "execution_count": 11,
      "outputs": [
        {
          "output_type": "stream",
          "text": [
            "Total Characters:  1571\n",
            "Total Vocab:  61\n",
            "Total Patterns:  1471\n",
            "WARNING:tensorflow:From /usr/local/lib/python3.6/dist-packages/tensorflow_core/python/ops/math_grad.py:1424: where (from tensorflow.python.ops.array_ops) is deprecated and will be removed in a future version.\n",
            "Instructions for updating:\n",
            "Use tf.where in 2.0, which has the same broadcast rule as np.where\n",
            "WARNING:tensorflow:From /usr/local/lib/python3.6/dist-packages/keras/backend/tensorflow_backend.py:1033: The name tf.assign_add is deprecated. Please use tf.compat.v1.assign_add instead.\n",
            "\n",
            "WARNING:tensorflow:From /usr/local/lib/python3.6/dist-packages/keras/backend/tensorflow_backend.py:1020: The name tf.assign is deprecated. Please use tf.compat.v1.assign instead.\n",
            "\n",
            "WARNING:tensorflow:From /usr/local/lib/python3.6/dist-packages/keras/backend/tensorflow_backend.py:3005: The name tf.Session is deprecated. Please use tf.compat.v1.Session instead.\n",
            "\n",
            "Epoch 1/20\n",
            "WARNING:tensorflow:From /usr/local/lib/python3.6/dist-packages/keras/backend/tensorflow_backend.py:190: The name tf.get_default_session is deprecated. Please use tf.compat.v1.get_default_session instead.\n",
            "\n",
            "WARNING:tensorflow:From /usr/local/lib/python3.6/dist-packages/keras/backend/tensorflow_backend.py:197: The name tf.ConfigProto is deprecated. Please use tf.compat.v1.ConfigProto instead.\n",
            "\n",
            "WARNING:tensorflow:From /usr/local/lib/python3.6/dist-packages/keras/backend/tensorflow_backend.py:207: The name tf.global_variables is deprecated. Please use tf.compat.v1.global_variables instead.\n",
            "\n",
            "WARNING:tensorflow:From /usr/local/lib/python3.6/dist-packages/keras/backend/tensorflow_backend.py:216: The name tf.is_variable_initialized is deprecated. Please use tf.compat.v1.is_variable_initialized instead.\n",
            "\n",
            "WARNING:tensorflow:From /usr/local/lib/python3.6/dist-packages/keras/backend/tensorflow_backend.py:223: The name tf.variables_initializer is deprecated. Please use tf.compat.v1.variables_initializer instead.\n",
            "\n",
            "1471/1471 [==============================] - 12s 8ms/step - loss: 3.8595\n",
            "\n",
            "Epoch 00001: loss improved from inf to 3.85949, saving model to /content/drive/My Drive/Machine Learning/Lstm/weights-improvement-01-3.8595.hdf5\n",
            "Epoch 2/20\n",
            "1471/1471 [==============================] - 10s 7ms/step - loss: 3.4897\n",
            "\n",
            "Epoch 00002: loss improved from 3.85949 to 3.48972, saving model to /content/drive/My Drive/Machine Learning/Lstm/weights-improvement-02-3.4897.hdf5\n",
            "Epoch 3/20\n",
            "1471/1471 [==============================] - 10s 7ms/step - loss: 3.4432\n",
            "\n",
            "Epoch 00003: loss improved from 3.48972 to 3.44324, saving model to /content/drive/My Drive/Machine Learning/Lstm/weights-improvement-03-3.4432.hdf5\n",
            "Epoch 4/20\n",
            "1471/1471 [==============================] - 11s 7ms/step - loss: 3.4387\n",
            "\n",
            "Epoch 00004: loss improved from 3.44324 to 3.43869, saving model to /content/drive/My Drive/Machine Learning/Lstm/weights-improvement-04-3.4387.hdf5\n",
            "Epoch 5/20\n",
            "1471/1471 [==============================] - 10s 7ms/step - loss: 3.4322\n",
            "\n",
            "Epoch 00005: loss improved from 3.43869 to 3.43218, saving model to /content/drive/My Drive/Machine Learning/Lstm/weights-improvement-05-3.4322.hdf5\n",
            "Epoch 6/20\n",
            "1471/1471 [==============================] - 10s 7ms/step - loss: 3.4314\n",
            "\n",
            "Epoch 00006: loss improved from 3.43218 to 3.43144, saving model to /content/drive/My Drive/Machine Learning/Lstm/weights-improvement-06-3.4314.hdf5\n",
            "Epoch 7/20\n",
            "1471/1471 [==============================] - 10s 7ms/step - loss: 3.4275\n",
            "\n",
            "Epoch 00007: loss improved from 3.43144 to 3.42749, saving model to /content/drive/My Drive/Machine Learning/Lstm/weights-improvement-07-3.4275.hdf5\n",
            "Epoch 8/20\n",
            "1471/1471 [==============================] - 10s 7ms/step - loss: 3.4280\n",
            "\n",
            "Epoch 00008: loss did not improve from 3.42749\n",
            "Epoch 9/20\n",
            "1471/1471 [==============================] - 10s 7ms/step - loss: 3.4219\n",
            "\n",
            "Epoch 00009: loss improved from 3.42749 to 3.42185, saving model to /content/drive/My Drive/Machine Learning/Lstm/weights-improvement-09-3.4219.hdf5\n",
            "Epoch 10/20\n",
            "1471/1471 [==============================] - 10s 7ms/step - loss: 3.4228\n",
            "\n",
            "Epoch 00010: loss did not improve from 3.42185\n",
            "Epoch 11/20\n",
            "1471/1471 [==============================] - 10s 7ms/step - loss: 3.4232\n",
            "\n",
            "Epoch 00011: loss did not improve from 3.42185\n",
            "Epoch 12/20\n",
            "1471/1471 [==============================] - 10s 7ms/step - loss: 3.4205\n",
            "\n",
            "Epoch 00012: loss improved from 3.42185 to 3.42045, saving model to /content/drive/My Drive/Machine Learning/Lstm/weights-improvement-12-3.4205.hdf5\n",
            "Epoch 13/20\n",
            "1471/1471 [==============================] - 10s 7ms/step - loss: 3.4141\n",
            "\n",
            "Epoch 00013: loss improved from 3.42045 to 3.41407, saving model to /content/drive/My Drive/Machine Learning/Lstm/weights-improvement-13-3.4141.hdf5\n",
            "Epoch 14/20\n",
            "1471/1471 [==============================] - 10s 7ms/step - loss: 3.4202\n",
            "\n",
            "Epoch 00014: loss did not improve from 3.41407\n",
            "Epoch 15/20\n",
            "1471/1471 [==============================] - 10s 7ms/step - loss: 3.4214\n",
            "\n",
            "Epoch 00015: loss did not improve from 3.41407\n",
            "Epoch 16/20\n",
            "1471/1471 [==============================] - 10s 7ms/step - loss: 3.4257\n",
            "\n",
            "Epoch 00016: loss did not improve from 3.41407\n",
            "Epoch 17/20\n",
            "1471/1471 [==============================] - 10s 7ms/step - loss: 3.4220\n",
            "\n",
            "Epoch 00017: loss did not improve from 3.41407\n",
            "Epoch 18/20\n",
            "1471/1471 [==============================] - 10s 7ms/step - loss: 3.4155\n",
            "\n",
            "Epoch 00018: loss did not improve from 3.41407\n",
            "Epoch 19/20\n",
            "1471/1471 [==============================] - 10s 7ms/step - loss: 3.4160\n",
            "\n",
            "Epoch 00019: loss did not improve from 3.41407\n",
            "Epoch 20/20\n",
            "1471/1471 [==============================] - 10s 7ms/step - loss: 3.4133\n",
            "\n",
            "Epoch 00020: loss improved from 3.41407 to 3.41334, saving model to /content/drive/My Drive/Machine Learning/Lstm/weights-improvement-20-3.4133.hdf5\n"
          ],
          "name": "stdout"
        },
        {
          "output_type": "execute_result",
          "data": {
            "text/plain": [
              "<keras.callbacks.History at 0x7f007e28c128>"
            ]
          },
          "metadata": {
            "tags": []
          },
          "execution_count": 11
        }
      ]
    },
    {
      "cell_type": "code",
      "metadata": {
        "id": "3G8x8gju8HMq",
        "colab_type": "code",
        "outputId": "0e56840b-37fc-4308-8216-ef296a793b8d",
        "colab": {
          "base_uri": "https://localhost:8080/",
          "height": 129
        }
      },
      "source": [
        "from google.colab import drive\n",
        "drive.mount('/content/drive')"
      ],
      "execution_count": 0,
      "outputs": [
        {
          "output_type": "stream",
          "text": [
            "Go to this URL in a browser: https://accounts.google.com/o/oauth2/auth?client_id=947318989803-6bn6qk8qdgf4n4g3pfee6491hc0brc4i.apps.googleusercontent.com&redirect_uri=urn%3aietf%3awg%3aoauth%3a2.0%3aoob&response_type=code&scope=email%20https%3a%2f%2fwww.googleapis.com%2fauth%2fdocs.test%20https%3a%2f%2fwww.googleapis.com%2fauth%2fdrive%20https%3a%2f%2fwww.googleapis.com%2fauth%2fdrive.photos.readonly%20https%3a%2f%2fwww.googleapis.com%2fauth%2fpeopleapi.readonly\n",
            "\n",
            "Enter your authorization code:\n",
            "··········\n",
            "Mounted at /content/drive\n"
          ],
          "name": "stdout"
        }
      ]
    }
  ]
}